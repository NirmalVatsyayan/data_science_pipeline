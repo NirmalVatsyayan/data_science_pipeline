{
 "cells": [
  {
   "cell_type": "code",
   "execution_count": 1,
   "metadata": {},
   "outputs": [],
   "source": [
    "import pandas as pd\n",
    "import numpy as np\n",
    "import matplotlib.pyplot as plt"
   ]
  },
  {
   "cell_type": "code",
   "execution_count": 2,
   "metadata": {},
   "outputs": [
    {
     "name": "stderr",
     "output_type": "stream",
     "text": [
      "/root/anaconda3/envs/nlp_course/lib/python3.6/site-packages/ipykernel_launcher.py:1: FutureWarning: Method .as_matrix will be removed in a future version. Use .values instead.\n",
      "  \"\"\"Entry point for launching an IPython kernel.\n"
     ]
    }
   ],
   "source": [
    "A = pd.read_csv(\"data_1d.csv\", header=None).as_matrix()\n",
    "x = A[:,0]\n",
    "y = A[:,1]"
   ]
  },
  {
   "cell_type": "code",
   "execution_count": 3,
   "metadata": {},
   "outputs": [
    {
     "data": {
      "text/plain": [
       "(array([10.,  9.,  5., 13., 10., 10.,  8., 16., 10.,  9.]),\n",
       " array([ 3.21124861, 12.88597188, 22.56069515, 32.23541842, 41.91014169,\n",
       "        51.58486496, 61.25958823, 70.9343115 , 80.60903477, 90.28375804,\n",
       "        99.95848131]),\n",
       " <a list of 10 Patch objects>)"
      ]
     },
     "execution_count": 3,
     "metadata": {},
     "output_type": "execute_result"
    },
    {
     "data": {
      "image/png": "[encoded data removed]",
      "text/plain": [
       "<Figure size 432x288 with 1 Axes>"
      ]
     },
     "metadata": {
      "needs_background": "light"
     },
     "output_type": "display_data"
    }
   ],
   "source": [
    "plt.hist(x)"
   ]
  },
  {
   "cell_type": "code",
   "execution_count": 4,
   "metadata": {},
   "outputs": [],
   "source": [
    "R = np.random.random(10000)"
   ]
  },
  {
   "cell_type": "code",
   "execution_count": 5,
   "metadata": {},
   "outputs": [
    {
     "data": {
      "text/plain": [
       "(array([1029.,  981.,  999.,  977.,  924., 1015., 1039., 1012., 1038.,\n",
       "         986.]),\n",
       " array([1.46551316e-04, 1.00127116e-01, 2.00107681e-01, 3.00088245e-01,\n",
       "        4.00068810e-01, 5.00049374e-01, 6.00029939e-01, 7.00010503e-01,\n",
       "        7.99991068e-01, 8.99971633e-01, 9.99952197e-01]),\n",
       " <a list of 10 Patch objects>)"
      ]
     },
     "execution_count": 5,
     "metadata": {},
     "output_type": "execute_result"
    },
    {
     "data": {
      "image/png": "[encoded data removed]",
      "text/plain": [
       "<Figure size 432x288 with 1 Axes>"
      ]
     },
     "metadata": {
      "needs_background": "light"
     },
     "output_type": "display_data"
    }
   ],
   "source": [
    "plt.hist(R)"
   ]
  },
  {
   "cell_type": "code",
   "execution_count": 6,
   "metadata": {},
   "outputs": [
    {
     "data": {
      "text/plain": [
       "(array([494., 535., 506., 475., 506., 493., 487., 490., 492., 432., 505.,\n",
       "        510., 520., 519., 538., 474., 514., 524., 482., 504.]),\n",
       " array([1.46551316e-04, 5.01368336e-02, 1.00127116e-01, 1.50117398e-01,\n",
       "        2.00107681e-01, 2.50097963e-01, 3.00088245e-01, 3.50078527e-01,\n",
       "        4.00068810e-01, 4.50059092e-01, 5.00049374e-01, 5.50039657e-01,\n",
       "        6.00029939e-01, 6.50020221e-01, 7.00010503e-01, 7.50000786e-01,\n",
       "        7.99991068e-01, 8.49981350e-01, 8.99971633e-01, 9.49961915e-01,\n",
       "        9.99952197e-01]),\n",
       " <a list of 20 Patch objects>)"
      ]
     },
     "execution_count": 6,
     "metadata": {},
     "output_type": "execute_result"
    },
    {
     "data": {
      "image/png": "[encoded data removed]",
      "text/plain": [
       "<Figure size 432x288 with 1 Axes>"
      ]
     },
     "metadata": {
      "needs_background": "light"
     },
     "output_type": "display_data"
    }
   ],
   "source": [
    "plt.hist(R, bins=20)"
   ]
  },
  {
   "cell_type": "code",
   "execution_count": 7,
   "metadata": {},
   "outputs": [],
   "source": [
    "y_actual = 2*x +1"
   ]
  },
  {
   "cell_type": "code",
   "execution_count": 8,
   "metadata": {},
   "outputs": [],
   "source": [
    "residuals = y - y_actual"
   ]
  },
  {
   "cell_type": "code",
   "execution_count": 9,
   "metadata": {},
   "outputs": [
    {
     "data": {
      "text/plain": [
       "(array([ 6.,  7., 15., 14., 12., 18., 13.,  7.,  6.,  2.]),\n",
       " array([-9.78834827, -7.57337797, -5.35840768, -3.14343738, -0.92846708,\n",
       "         1.28650321,  3.50147351,  5.7164438 ,  7.9314141 , 10.14638439,\n",
       "        12.36135469]),\n",
       " <a list of 10 Patch objects>)"
      ]
     },
     "execution_count": 9,
     "metadata": {},
     "output_type": "execute_result"
    },
    {
     "data": {
      "image/png": "[encoded data removed]",
      "text/plain": [
       "<Figure size 432x288 with 1 Axes>"
      ]
     },
     "metadata": {
      "needs_background": "light"
     },
     "output_type": "display_data"
    }
   ],
   "source": [
    "plt.hist(residuals)"
   ]
  },
  {
   "cell_type": "code",
   "execution_count": null,
   "metadata": {},
   "outputs": [],
   "source": []
  }
 ],
 "metadata": {
  "kernelspec": {
   "display_name": "nlp_course",
   "language": "python",
   "name": "nlp_course"
  },
  "language_info": {
   "codemirror_mode": {
    "name": "ipython",
    "version": 3
   },
   "file_extension": ".py",
   "mimetype": "text/x-python",
   "name": "python",
   "nbconvert_exporter": "python",
   "pygments_lexer": "ipython3",
   "version": "3.6.7"
  }
 },
 "nbformat": 4,
 "nbformat_minor": 2
}
